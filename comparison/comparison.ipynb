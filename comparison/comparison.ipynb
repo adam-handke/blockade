{
 "cells": [
  {
   "cell_type": "markdown",
   "metadata": {},
   "source": [
    "# Bot performance comparison"
   ]
  },
  {
   "cell_type": "code",
   "execution_count": 2,
   "metadata": {
    "collapsed": false,
    "jupyter": {
     "outputs_hidden": false
    }
   },
   "outputs": [],
   "source": [
    "import random\n",
    "import sys\n",
    "import numpy as np\n",
    "from tqdm.notebook import trange\n",
    "\n",
    "sys.path.append('..')\n",
    "from env import BlockadeEnv\n",
    "from blockade import Blockade\n",
    "from players.ReinforcementLearningBot import ReinforcementLearningBot\n",
    "from players.OptimizedBot import OptimizedBot\n",
    "from players.HeuristicBot import HeuristicBot\n",
    "from players.RandomBot import RandomBot"
   ]
  },
  {
   "cell_type": "code",
   "execution_count": 3,
   "metadata": {
    "collapsed": false,
    "jupyter": {
     "outputs_hidden": false
    }
   },
   "outputs": [],
   "source": [
    "def make_bot_comparison(bot1, bot2, arena_size=15, total_games=1000, starting_seed=0):\n",
    "    win_counter = 0\n",
    "    draw_counter = 0\n",
    "    \n",
    "    for seed in trange(starting_seed, starting_seed+total_games):\n",
    "        random.seed(seed)\n",
    "        p1 = bot1\n",
    "        p2 = bot2\n",
    "        game = Blockade(player1=p1,\n",
    "                        player2=p2,\n",
    "                        arena_size=arena_size,\n",
    "                        verbose=False)\n",
    "        outcome = game.run_windowless()\n",
    "        if outcome == 1:\n",
    "            win_counter += 1\n",
    "        elif outcome == 0:\n",
    "            draw_counter += 1\n",
    "    \n",
    "    lost_games = total_games - win_counter - draw_counter\n",
    "    print(f'{bot1} against {bot2} results (arena_size={arena_size}):')\n",
    "    print(f'{win_counter}/{total_games} games won ({np.round(win_counter / total_games * 100.0, 2)}%)')\n",
    "    print(f'{draw_counter}/{total_games} draws ({np.round(draw_counter / total_games * 100.0, 2)}%)')\n",
    "    print(f'{lost_games}/{total_games} games lost ({np.round(lost_games / total_games * 100.0, 2)}%)')\n",
    "    \n",
    "    return win_counter, draw_counter, lost_games"
   ]
  },
  {
   "cell_type": "code",
   "execution_count": 13,
   "metadata": {},
   "outputs": [
    {
     "name": "stdout",
     "output_type": "stream",
     "text": [
      "1/16 player1=RandomBot; player2=RandomBot\n"
     ]
    },
    {
     "data": {
      "application/vnd.jupyter.widget-view+json": {
       "model_id": "a1013fc8cc8c47fc8c3223da951ad13b",
       "version_major": 2,
       "version_minor": 0
      },
      "text/plain": [
       "  0%|          | 0/1000 [00:00<?, ?it/s]"
      ]
     },
     "metadata": {},
     "output_type": "display_data"
    },
    {
     "name": "stdout",
     "output_type": "stream",
     "text": [
      "RandomBot against RandomBot results (arena_size=15):\n",
      "480/1000 games won (48.0%)\n",
      "66/1000 draws (6.6%)\n",
      "454/1000 games lost (45.4%)\n",
      "\n",
      "\n",
      "2/16 player1=RandomBot; player2=HeuristicBot\n"
     ]
    },
    {
     "data": {
      "application/vnd.jupyter.widget-view+json": {
       "model_id": "db4cf99288d74b8b80a5ebecd937c1e3",
       "version_major": 2,
       "version_minor": 0
      },
      "text/plain": [
       "  0%|          | 0/1000 [00:00<?, ?it/s]"
      ]
     },
     "metadata": {},
     "output_type": "display_data"
    },
    {
     "name": "stdout",
     "output_type": "stream",
     "text": [
      "RandomBot against HeuristicBot results (arena_size=15):\n",
      "43/1000 games won (4.3%)\n",
      "85/1000 draws (8.5%)\n",
      "872/1000 games lost (87.2%)\n",
      "\n",
      "\n",
      "3/16 player1=RandomBot; player2=OptimizedBot (0.41529055, 0.12742814, 0.38834967, 0.00099525)\n"
     ]
    },
    {
     "data": {
      "application/vnd.jupyter.widget-view+json": {
       "model_id": "f8515472a0f04b17b51fe78c468a9495",
       "version_major": 2,
       "version_minor": 0
      },
      "text/plain": [
       "  0%|          | 0/1000 [00:00<?, ?it/s]"
      ]
     },
     "metadata": {},
     "output_type": "display_data"
    },
    {
     "name": "stdout",
     "output_type": "stream",
     "text": [
      "RandomBot against OptimizedBot (0.41529055, 0.12742814, 0.38834967, 0.00099525) results (arena_size=15):\n",
      "55/1000 games won (5.5%)\n",
      "137/1000 draws (13.7%)\n",
      "808/1000 games lost (80.8%)\n",
      "\n",
      "\n",
      "4/16 player1=RandomBot; player2=ReinforcementLearningBot (A2C15v2)\n"
     ]
    },
    {
     "data": {
      "application/vnd.jupyter.widget-view+json": {
       "model_id": "5823792ce80c453999a8b2d8452165c7",
       "version_major": 2,
       "version_minor": 0
      },
      "text/plain": [
       "  0%|          | 0/1000 [00:00<?, ?it/s]"
      ]
     },
     "metadata": {},
     "output_type": "display_data"
    },
    {
     "name": "stdout",
     "output_type": "stream",
     "text": [
      "RandomBot against ReinforcementLearningBot (A2C15v2) results (arena_size=15):\n",
      "329/1000 games won (32.9%)\n",
      "126/1000 draws (12.6%)\n",
      "545/1000 games lost (54.5%)\n",
      "\n",
      "\n",
      "5/16 player1=HeuristicBot; player2=RandomBot\n"
     ]
    },
    {
     "data": {
      "application/vnd.jupyter.widget-view+json": {
       "model_id": "a324844d214e47e3a79c7e0d8dc0f680",
       "version_major": 2,
       "version_minor": 0
      },
      "text/plain": [
       "  0%|          | 0/1000 [00:00<?, ?it/s]"
      ]
     },
     "metadata": {},
     "output_type": "display_data"
    },
    {
     "name": "stdout",
     "output_type": "stream",
     "text": [
      "HeuristicBot against RandomBot results (arena_size=15):\n",
      "834/1000 games won (83.4%)\n",
      "129/1000 draws (12.9%)\n",
      "37/1000 games lost (3.7%)\n",
      "\n",
      "\n",
      "6/16 player1=HeuristicBot; player2=HeuristicBot\n"
     ]
    },
    {
     "data": {
      "application/vnd.jupyter.widget-view+json": {
       "model_id": "833f8f64d0d141019e098a81ce6595b8",
       "version_major": 2,
       "version_minor": 0
      },
      "text/plain": [
       "  0%|          | 0/1000 [00:00<?, ?it/s]"
      ]
     },
     "metadata": {},
     "output_type": "display_data"
    },
    {
     "name": "stdout",
     "output_type": "stream",
     "text": [
      "HeuristicBot against HeuristicBot results (arena_size=15):\n",
      "344/1000 games won (34.4%)\n",
      "166/1000 draws (16.6%)\n",
      "490/1000 games lost (49.0%)\n",
      "\n",
      "\n",
      "7/16 player1=HeuristicBot; player2=OptimizedBot (0.41529055, 0.12742814, 0.38834967, 0.00099525)\n"
     ]
    },
    {
     "data": {
      "application/vnd.jupyter.widget-view+json": {
       "model_id": "307a1d474df54a068fcc5662c9c2f1ba",
       "version_major": 2,
       "version_minor": 0
      },
      "text/plain": [
       "  0%|          | 0/1000 [00:00<?, ?it/s]"
      ]
     },
     "metadata": {},
     "output_type": "display_data"
    },
    {
     "name": "stdout",
     "output_type": "stream",
     "text": [
      "HeuristicBot against OptimizedBot (0.41529055, 0.12742814, 0.38834967, 0.00099525) results (arena_size=15):\n",
      "272/1000 games won (27.2%)\n",
      "354/1000 draws (35.4%)\n",
      "374/1000 games lost (37.4%)\n",
      "\n",
      "\n",
      "8/16 player1=HeuristicBot; player2=ReinforcementLearningBot (A2C15v2)\n"
     ]
    },
    {
     "data": {
      "application/vnd.jupyter.widget-view+json": {
       "model_id": "d77400884eb241e8bf01b903ecae1f53",
       "version_major": 2,
       "version_minor": 0
      },
      "text/plain": [
       "  0%|          | 0/1000 [00:00<?, ?it/s]"
      ]
     },
     "metadata": {},
     "output_type": "display_data"
    },
    {
     "name": "stdout",
     "output_type": "stream",
     "text": [
      "HeuristicBot against ReinforcementLearningBot (A2C15v2) results (arena_size=15):\n",
      "829/1000 games won (82.9%)\n",
      "100/1000 draws (10.0%)\n",
      "71/1000 games lost (7.1%)\n",
      "\n",
      "\n",
      "9/16 player1=OptimizedBot (0.41529055, 0.12742814, 0.38834967, 0.00099525); player2=RandomBot\n"
     ]
    },
    {
     "data": {
      "application/vnd.jupyter.widget-view+json": {
       "model_id": "28d2ca3be775470fb28fe24cf2005e4d",
       "version_major": 2,
       "version_minor": 0
      },
      "text/plain": [
       "  0%|          | 0/1000 [00:00<?, ?it/s]"
      ]
     },
     "metadata": {},
     "output_type": "display_data"
    },
    {
     "name": "stdout",
     "output_type": "stream",
     "text": [
      "OptimizedBot (0.41529055, 0.12742814, 0.38834967, 0.00099525) against RandomBot results (arena_size=15):\n",
      "849/1000 games won (84.9%)\n",
      "128/1000 draws (12.8%)\n",
      "23/1000 games lost (2.3%)\n",
      "\n",
      "\n",
      "10/16 player1=OptimizedBot (0.41529055, 0.12742814, 0.38834967, 0.00099525); player2=HeuristicBot\n"
     ]
    },
    {
     "data": {
      "application/vnd.jupyter.widget-view+json": {
       "model_id": "e096292be9a8451b93a4031a5f4bc600",
       "version_major": 2,
       "version_minor": 0
      },
      "text/plain": [
       "  0%|          | 0/1000 [00:00<?, ?it/s]"
      ]
     },
     "metadata": {},
     "output_type": "display_data"
    },
    {
     "name": "stdout",
     "output_type": "stream",
     "text": [
      "OptimizedBot (0.41529055, 0.12742814, 0.38834967, 0.00099525) against HeuristicBot results (arena_size=15):\n",
      "512/1000 games won (51.2%)\n",
      "88/1000 draws (8.8%)\n",
      "400/1000 games lost (40.0%)\n",
      "\n",
      "\n",
      "11/16 player1=OptimizedBot (0.41529055, 0.12742814, 0.38834967, 0.00099525); player2=OptimizedBot (0.41529055, 0.12742814, 0.38834967, 0.00099525)\n"
     ]
    },
    {
     "data": {
      "application/vnd.jupyter.widget-view+json": {
       "model_id": "fcebd4f22ec74ab894e74a91ddd28967",
       "version_major": 2,
       "version_minor": 0
      },
      "text/plain": [
       "  0%|          | 0/1000 [00:00<?, ?it/s]"
      ]
     },
     "metadata": {},
     "output_type": "display_data"
    },
    {
     "name": "stdout",
     "output_type": "stream",
     "text": [
      "OptimizedBot (0.41529055, 0.12742814, 0.38834967, 0.00099525) against OptimizedBot (0.41529055, 0.12742814, 0.38834967, 0.00099525) results (arena_size=15):\n",
      "385/1000 games won (38.5%)\n",
      "221/1000 draws (22.1%)\n",
      "394/1000 games lost (39.4%)\n",
      "\n",
      "\n",
      "12/16 player1=OptimizedBot (0.41529055, 0.12742814, 0.38834967, 0.00099525); player2=ReinforcementLearningBot (A2C15v2)\n"
     ]
    },
    {
     "data": {
      "application/vnd.jupyter.widget-view+json": {
       "model_id": "ea3c599908dd44808a2febd24f0bfc25",
       "version_major": 2,
       "version_minor": 0
      },
      "text/plain": [
       "  0%|          | 0/1000 [00:00<?, ?it/s]"
      ]
     },
     "metadata": {},
     "output_type": "display_data"
    },
    {
     "name": "stdout",
     "output_type": "stream",
     "text": [
      "OptimizedBot (0.41529055, 0.12742814, 0.38834967, 0.00099525) against ReinforcementLearningBot (A2C15v2) results (arena_size=15):\n",
      "0/1000 games won (0.0%)\n",
      "1000/1000 draws (100.0%)\n",
      "0/1000 games lost (0.0%)\n",
      "\n",
      "\n",
      "13/16 player1=ReinforcementLearningBot (A2C15v2); player2=RandomBot\n"
     ]
    },
    {
     "data": {
      "application/vnd.jupyter.widget-view+json": {
       "model_id": "34f43ef9b1ac4b778a8771c79ea7a389",
       "version_major": 2,
       "version_minor": 0
      },
      "text/plain": [
       "  0%|          | 0/1000 [00:00<?, ?it/s]"
      ]
     },
     "metadata": {},
     "output_type": "display_data"
    },
    {
     "name": "stdout",
     "output_type": "stream",
     "text": [
      "ReinforcementLearningBot (A2C15v2) against RandomBot results (arena_size=15):\n",
      "560/1000 games won (56.0%)\n",
      "94/1000 draws (9.4%)\n",
      "346/1000 games lost (34.6%)\n",
      "\n",
      "\n",
      "14/16 player1=ReinforcementLearningBot (A2C15v2); player2=HeuristicBot\n"
     ]
    },
    {
     "data": {
      "application/vnd.jupyter.widget-view+json": {
       "model_id": "9837bd57eb0b4a49bde6488680e233ec",
       "version_major": 2,
       "version_minor": 0
      },
      "text/plain": [
       "  0%|          | 0/1000 [00:00<?, ?it/s]"
      ]
     },
     "metadata": {},
     "output_type": "display_data"
    },
    {
     "name": "stdout",
     "output_type": "stream",
     "text": [
      "ReinforcementLearningBot (A2C15v2) against HeuristicBot results (arena_size=15):\n",
      "24/1000 games won (2.4%)\n",
      "516/1000 draws (51.6%)\n",
      "460/1000 games lost (46.0%)\n",
      "\n",
      "\n",
      "15/16 player1=ReinforcementLearningBot (A2C15v2); player2=OptimizedBot (0.41529055, 0.12742814, 0.38834967, 0.00099525)\n"
     ]
    },
    {
     "data": {
      "application/vnd.jupyter.widget-view+json": {
       "model_id": "939d7dc4311543b4884065c30e578d06",
       "version_major": 2,
       "version_minor": 0
      },
      "text/plain": [
       "  0%|          | 0/1000 [00:00<?, ?it/s]"
      ]
     },
     "metadata": {},
     "output_type": "display_data"
    },
    {
     "name": "stdout",
     "output_type": "stream",
     "text": [
      "ReinforcementLearningBot (A2C15v2) against OptimizedBot (0.41529055, 0.12742814, 0.38834967, 0.00099525) results (arena_size=15):\n",
      "1/1000 games won (0.1%)\n",
      "931/1000 draws (93.1%)\n",
      "68/1000 games lost (6.8%)\n",
      "\n",
      "\n",
      "16/16 player1=ReinforcementLearningBot (A2C15v2); player2=ReinforcementLearningBot (A2C15v2)\n"
     ]
    },
    {
     "data": {
      "application/vnd.jupyter.widget-view+json": {
       "model_id": "73a01966489743538361165799028da6",
       "version_major": 2,
       "version_minor": 0
      },
      "text/plain": [
       "  0%|          | 0/1000 [00:00<?, ?it/s]"
      ]
     },
     "metadata": {},
     "output_type": "display_data"
    },
    {
     "name": "stdout",
     "output_type": "stream",
     "text": [
      "ReinforcementLearningBot (A2C15v2) against ReinforcementLearningBot (A2C15v2) results (arena_size=15):\n",
      "386/1000 games won (38.6%)\n",
      "371/1000 draws (37.1%)\n",
      "243/1000 games lost (24.3%)\n",
      "\n",
      "\n",
      "{('RandomBot', 'RandomBot'): (480, 66, 454), ('RandomBot', 'HeuristicBot'): (43, 85, 872), ('RandomBot', 'OptimizedBot (0.41529055, 0.12742814, 0.38834967, 0.00099525)'): (55, 137, 808), ('RandomBot', 'ReinforcementLearningBot (A2C15v2)'): (329, 126, 545), ('HeuristicBot', 'RandomBot'): (834, 129, 37), ('HeuristicBot', 'HeuristicBot'): (344, 166, 490), ('HeuristicBot', 'OptimizedBot (0.41529055, 0.12742814, 0.38834967, 0.00099525)'): (272, 354, 374), ('HeuristicBot', 'ReinforcementLearningBot (A2C15v2)'): (829, 100, 71), ('OptimizedBot (0.41529055, 0.12742814, 0.38834967, 0.00099525)', 'RandomBot'): (849, 128, 23), ('OptimizedBot (0.41529055, 0.12742814, 0.38834967, 0.00099525)', 'HeuristicBot'): (512, 88, 400), ('OptimizedBot (0.41529055, 0.12742814, 0.38834967, 0.00099525)', 'OptimizedBot (0.41529055, 0.12742814, 0.38834967, 0.00099525)'): (385, 221, 394), ('OptimizedBot (0.41529055, 0.12742814, 0.38834967, 0.00099525)', 'ReinforcementLearningBot (A2C15v2)'): (0, 1000, 0), ('ReinforcementLearningBot (A2C15v2)', 'RandomBot'): (560, 94, 346), ('ReinforcementLearningBot (A2C15v2)', 'HeuristicBot'): (24, 516, 460), ('ReinforcementLearningBot (A2C15v2)', 'OptimizedBot (0.41529055, 0.12742814, 0.38834967, 0.00099525)'): (1, 931, 68), ('ReinforcementLearningBot (A2C15v2)', 'ReinforcementLearningBot (A2C15v2)'): (386, 371, 243)}\n",
      "Total wins: {'RandomBot': 1767, 'HeuristicBot': 4501, 'OptimizedBot (0.41529055, 0.12742814, 0.38834967, 0.00099525)': 3390, 'ReinforcementLearningBot (A2C15v2)': 1830}\n",
      "Total draws: {'RandomBot': 831, 'HeuristicBot': 1604, 'OptimizedBot (0.41529055, 0.12742814, 0.38834967, 0.00099525)': 3080, 'ReinforcementLearningBot (A2C15v2)': 3509}\n",
      "Total loses: {'RandomBot': 5402, 'HeuristicBot': 1895, 'OptimizedBot (0.41529055, 0.12742814, 0.38834967, 0.00099525)': 1530, 'ReinforcementLearningBot (A2C15v2)': 2661}\n"
     ]
    }
   ],
   "source": [
    "bots = [RandomBot(verbose=False),\n",
    "        HeuristicBot(verbose=False),\n",
    "        OptimizedBot(verbose=False),\n",
    "        ReinforcementLearningBot(verbose=False, model_name='../players/A2C15v2')\n",
    "       ]\n",
    "\n",
    "results = dict()\n",
    "bot_total_wins = {str(b): 0 for b in bots}\n",
    "bot_total_draws = {str(b): 0 for b in bots}\n",
    "bot_total_loses = {str(b): 0 for b in bots}\n",
    "counter = 1\n",
    "\n",
    "for p1 in bots:\n",
    "    for p2 in bots:\n",
    "        print(f'{counter}/{len(bots)**2} player1={p1}; player2={p2}')\n",
    "        wins, draws, loses = make_bot_comparison(p1, p2, arena_size=15, total_games=1000)\n",
    "        results[(str(p1), str(p2))] = (wins, draws, loses)\n",
    "        bot_total_wins[str(p1)] += wins\n",
    "        bot_total_wins[str(p2)] += loses\n",
    "        bot_total_draws[str(p1)] += draws\n",
    "        bot_total_draws[str(p2)] += draws\n",
    "        bot_total_loses[str(p1)] += loses\n",
    "        bot_total_loses[str(p2)] += wins\n",
    "        \n",
    "        counter += 1\n",
    "        print('\\n')\n",
    "        \n",
    "print(results)\n",
    "print('Total wins:', bot_total_wins)\n",
    "print('Total draws:', bot_total_draws)\n",
    "print('Total loses:', bot_total_loses)"
   ]
  },
  {
   "cell_type": "markdown",
   "metadata": {},
   "source": [
    "## Verify RL vs Optimized bot draw anomaly\n",
    "\n",
    "90-100% draws when ReinforcementLearningBot fights OptimizedBot. Let's verify it with different seeds and more trials."
   ]
  },
  {
   "cell_type": "code",
   "execution_count": 4,
   "metadata": {},
   "outputs": [
    {
     "data": {
      "application/vnd.jupyter.widget-view+json": {
       "model_id": "d5a7caf6510a405c96b423d797133d00",
       "version_major": 2,
       "version_minor": 0
      },
      "text/plain": [
       "  0%|          | 0/10000 [00:00<?, ?it/s]"
      ]
     },
     "metadata": {},
     "output_type": "display_data"
    },
    {
     "name": "stdout",
     "output_type": "stream",
     "text": [
      "ReinforcementLearningBot (A2C15v2) against OptimizedBot (0.41529055, 0.12742814, 0.38834967, 0.00099525) results (arena_size=15):\n",
      "6/10000 games won (0.06%)\n",
      "9307/10000 draws (93.07%)\n",
      "687/10000 games lost (6.87%)\n"
     ]
    },
    {
     "data": {
      "text/plain": [
       "(6, 9307, 687)"
      ]
     },
     "execution_count": 4,
     "metadata": {},
     "output_type": "execute_result"
    }
   ],
   "source": [
    "make_bot_comparison(ReinforcementLearningBot(verbose=False, model_name='../players/A2C15v2'), \n",
    "                    OptimizedBot(verbose=False), \n",
    "                    arena_size=15, total_games=10000, starting_seed=987654321)"
   ]
  }
 ],
 "metadata": {
  "kernelspec": {
   "display_name": "Python 3",
   "language": "python",
   "name": "python3"
  },
  "language_info": {
   "codemirror_mode": {
    "name": "ipython",
    "version": 3
   },
   "file_extension": ".py",
   "mimetype": "text/x-python",
   "name": "python",
   "nbconvert_exporter": "python",
   "pygments_lexer": "ipython3",
   "version": "3.8.5"
  }
 },
 "nbformat": 4,
 "nbformat_minor": 4
}
