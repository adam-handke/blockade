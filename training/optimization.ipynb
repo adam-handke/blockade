{
 "cells": [
  {
   "cell_type": "markdown",
   "metadata": {},
   "source": [
    "# OptimizedBot optimization"
   ]
  },
  {
   "cell_type": "code",
   "execution_count": 2,
   "metadata": {
    "collapsed": false,
    "jupyter": {
     "outputs_hidden": false
    },
    "pycharm": {
     "is_executing": true
    }
   },
   "outputs": [],
   "source": [
    "import arcade\n",
    "import random\n",
    "import sys\n",
    "\n",
    "sys.path.append('..')\n",
    "from blockade import Blockade\n",
    "from players.OptimizedBot import OptimizedBot"
   ]
  },
  {
   "cell_type": "code",
   "execution_count": 3,
   "metadata": {},
   "outputs": [
    {
     "name": "stdout",
     "output_type": "stream",
     "text": [
      "1\n",
      "1\n",
      "1\n"
     ]
    }
   ],
   "source": [
    "# test series of games with different random seeds\n",
    "for seed in range(3):\n",
    "    random.seed(seed)\n",
    "    game = Blockade(player1=OptimizedBot(weights=[1.0, 1.0, 1.0, 0.0], verbose=False),\n",
    "                    player2=OptimizedBot(weights=[0.0, 0.0, 0.0, 0.0], verbose=False),\n",
    "                    arena_size=20,\n",
    "                    tile_size=50,\n",
    "                    game_speed=999,\n",
    "                    mute_sound=True,\n",
    "                    window_hidden=True,\n",
    "                    verbose=False)\n",
    "    game.setup()\n",
    "    game.run()\n",
    "    print(game.outcome)\n",
    "    arcade.close_window()\n",
    "    del game"
   ]
  }
 ],
 "metadata": {
  "kernelspec": {
   "display_name": "Python 3",
   "language": "python",
   "name": "python3"
  },
  "language_info": {
   "codemirror_mode": {
    "name": "ipython",
    "version": 3
   },
   "file_extension": ".py",
   "mimetype": "text/x-python",
   "name": "python",
   "nbconvert_exporter": "python",
   "pygments_lexer": "ipython3",
   "version": "3.8.5"
  }
 },
 "nbformat": 4,
 "nbformat_minor": 4
}
